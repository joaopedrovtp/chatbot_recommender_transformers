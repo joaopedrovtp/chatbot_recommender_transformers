{
 "cells": [
  {
   "cell_type": "code",
   "execution_count": 1,
   "metadata": {},
   "outputs": [
    {
     "name": "stderr",
     "output_type": "stream",
     "text": [
      "c:\\Users\\joaop\\miniconda3\\lib\\site-packages\\tqdm\\auto.py:22: TqdmWarning: IProgress not found. Please update jupyter and ipywidgets. See https://ipywidgets.readthedocs.io/en/stable/user_install.html\n",
      "  from .autonotebook import tqdm as notebook_tqdm\n"
     ]
    }
   ],
   "source": [
    "# import libs \n",
    "import pandas as pd\n",
    "import numpy as np\n",
    "from sentence_transformers import SentenceTransformer, util\n",
    "import torch"
   ]
  },
  {
   "cell_type": "code",
   "execution_count": 2,
   "metadata": {},
   "outputs": [
    {
     "name": "stdout",
     "output_type": "stream",
     "text": [
      "<class 'pandas.core.frame.DataFrame'>\n",
      "RangeIndex: 15584 entries, 0 to 15583\n",
      "Data columns (total 7 columns):\n",
      " #   Column         Non-Null Count  Dtype \n",
      "---  ------         --------------  ----- \n",
      " 0   index          15584 non-null  int64 \n",
      " 1   id             15584 non-null  object\n",
      " 2   title          15584 non-null  object\n",
      " 3   type           15584 non-null  object\n",
      " 4   genres         15584 non-null  object\n",
      " 5   description    15584 non-null  object\n",
      " 6   desc_n_genres  15584 non-null  object\n",
      "dtypes: int64(1), object(6)\n",
      "memory usage: 852.4+ KB\n"
     ]
    },
    {
     "data": {
      "text/html": [
       "<div>\n",
       "<style scoped>\n",
       "    .dataframe tbody tr th:only-of-type {\n",
       "        vertical-align: middle;\n",
       "    }\n",
       "\n",
       "    .dataframe tbody tr th {\n",
       "        vertical-align: top;\n",
       "    }\n",
       "\n",
       "    .dataframe thead th {\n",
       "        text-align: right;\n",
       "    }\n",
       "</style>\n",
       "<table border=\"1\" class=\"dataframe\">\n",
       "  <thead>\n",
       "    <tr style=\"text-align: right;\">\n",
       "      <th></th>\n",
       "      <th>index</th>\n",
       "      <th>id</th>\n",
       "      <th>title</th>\n",
       "      <th>type</th>\n",
       "      <th>genres</th>\n",
       "      <th>description</th>\n",
       "      <th>desc_n_genres</th>\n",
       "    </tr>\n",
       "  </thead>\n",
       "  <tbody>\n",
       "    <tr>\n",
       "      <th>0</th>\n",
       "      <td>0</td>\n",
       "      <td>ts300399</td>\n",
       "      <td>Five Came Back: The Reference Films</td>\n",
       "      <td>SHOW</td>\n",
       "      <td>['documentation']</td>\n",
       "      <td>This collection includes 12 World War II-era p...</td>\n",
       "      <td>['documentation'], This collection includes 12...</td>\n",
       "    </tr>\n",
       "    <tr>\n",
       "      <th>1</th>\n",
       "      <td>1</td>\n",
       "      <td>tm84618</td>\n",
       "      <td>Taxi Driver</td>\n",
       "      <td>MOVIE</td>\n",
       "      <td>['drama', 'crime']</td>\n",
       "      <td>A mentally unstable Vietnam War veteran works ...</td>\n",
       "      <td>['drama', 'crime'], A mentally unstable Vietna...</td>\n",
       "    </tr>\n",
       "    <tr>\n",
       "      <th>2</th>\n",
       "      <td>2</td>\n",
       "      <td>tm154986</td>\n",
       "      <td>Deliverance</td>\n",
       "      <td>MOVIE</td>\n",
       "      <td>['drama', 'action', 'thriller', 'european']</td>\n",
       "      <td>Intent on seeing the Cahulawassee River before...</td>\n",
       "      <td>['drama', 'action', 'thriller', 'european'], I...</td>\n",
       "    </tr>\n",
       "    <tr>\n",
       "      <th>3</th>\n",
       "      <td>3</td>\n",
       "      <td>tm127384</td>\n",
       "      <td>Monty Python and the Holy Grail</td>\n",
       "      <td>MOVIE</td>\n",
       "      <td>['fantasy', 'action', 'comedy']</td>\n",
       "      <td>King Arthur, accompanied by his squire, recrui...</td>\n",
       "      <td>['fantasy', 'action', 'comedy'], King Arthur, ...</td>\n",
       "    </tr>\n",
       "    <tr>\n",
       "      <th>4</th>\n",
       "      <td>4</td>\n",
       "      <td>tm120801</td>\n",
       "      <td>The Dirty Dozen</td>\n",
       "      <td>MOVIE</td>\n",
       "      <td>['war', 'action']</td>\n",
       "      <td>12 American military prisoners in World War II...</td>\n",
       "      <td>['war', 'action'], 12 American military prison...</td>\n",
       "    </tr>\n",
       "  </tbody>\n",
       "</table>\n",
       "</div>"
      ],
      "text/plain": [
       "   index        id                                title   type  \\\n",
       "0      0  ts300399  Five Came Back: The Reference Films   SHOW   \n",
       "1      1   tm84618                          Taxi Driver  MOVIE   \n",
       "2      2  tm154986                          Deliverance  MOVIE   \n",
       "3      3  tm127384      Monty Python and the Holy Grail  MOVIE   \n",
       "4      4  tm120801                      The Dirty Dozen  MOVIE   \n",
       "\n",
       "                                        genres  \\\n",
       "0                            ['documentation']   \n",
       "1                           ['drama', 'crime']   \n",
       "2  ['drama', 'action', 'thriller', 'european']   \n",
       "3              ['fantasy', 'action', 'comedy']   \n",
       "4                            ['war', 'action']   \n",
       "\n",
       "                                         description  \\\n",
       "0  This collection includes 12 World War II-era p...   \n",
       "1  A mentally unstable Vietnam War veteran works ...   \n",
       "2  Intent on seeing the Cahulawassee River before...   \n",
       "3  King Arthur, accompanied by his squire, recrui...   \n",
       "4  12 American military prisoners in World War II...   \n",
       "\n",
       "                                       desc_n_genres  \n",
       "0  ['documentation'], This collection includes 12...  \n",
       "1  ['drama', 'crime'], A mentally unstable Vietna...  \n",
       "2  ['drama', 'action', 'thriller', 'european'], I...  \n",
       "3  ['fantasy', 'action', 'comedy'], King Arthur, ...  \n",
       "4  ['war', 'action'], 12 American military prison...  "
      ]
     },
     "execution_count": 2,
     "metadata": {},
     "output_type": "execute_result"
    }
   ],
   "source": [
    "# path of csv files\n",
    "netflix_csv_path = \"../data/netflix_titles.csv\"\n",
    "amazon_csv_path = \"../data/amazon_titles.csv\"\n",
    "\n",
    "# Read CSV files from List\n",
    "df = pd.concat(map(pd.read_csv, [netflix_csv_path, amazon_csv_path]))\n",
    "data = df[['id','title', 'type', 'genres', 'description']]\n",
    "\n",
    "# removing missing movies/shows without descriptions\n",
    "data = data[~data['description'].isnull()].reset_index()\n",
    "\n",
    "# Concat genres and description\n",
    "data['desc_n_genres'] = data['genres'].str.cat(data['description'], sep=', ')\n",
    "\n",
    "# df infos\n",
    "data.info()\n",
    "\n",
    "# df first 5 lines\n",
    "data.head()"
   ]
  },
  {
   "cell_type": "code",
   "execution_count": 3,
   "metadata": {},
   "outputs": [],
   "source": [
    "# model = SentenceTransformer('paraphrase-distilroberta-base-v1')\n",
    "model = SentenceTransformer('paraphrase-multilingual-MiniLM-L12-v2')\n"
   ]
  },
  {
   "cell_type": "code",
   "execution_count": 42,
   "metadata": {},
   "outputs": [],
   "source": [
    "## Get embeddings\n",
    "# descriptions = data['desc_n_genres'].tolist()\n",
    "\n",
    "# des_embeddings = []\n",
    "# for i,des in enumerate(descriptions):\n",
    "#     des_embeddings.append(model.encode(des))\n",
    "\n",
    "# np.save('../input/descriptions-multiLM-embeddings/des_embeddings.npy', des_embeddings)"
   ]
  },
  {
   "cell_type": "code",
   "execution_count": 4,
   "metadata": {},
   "outputs": [],
   "source": [
    "## Choosing description embeddings  \n",
    "# des_embeddings = np.load('../input/descriptions-roberta-embeddings/des_embeddings.npy')\n",
    "des_embeddings = np.load('../input/descriptions-multiLM-embeddings/des_embeddings.npy')\n"
   ]
  },
  {
   "cell_type": "code",
   "execution_count": 5,
   "metadata": {},
   "outputs": [],
   "source": [
    "# Function to get top 5 matches similar with all embeddings\n",
    "def recommend(query):\n",
    "    #Compute cosine-similarities with all embeddings \n",
    "    query_embedd = model.encode(query)\n",
    "    cosine_scores = util.pytorch_cos_sim(query_embedd, des_embeddings)\n",
    "    top5_matches = torch.argsort(cosine_scores, dim=-1, descending=True).tolist()[0][1:6]\n",
    "    return top5_matches"
   ]
  },
  {
   "cell_type": "code",
   "execution_count": 6,
   "metadata": {},
   "outputs": [
    {
     "data": {
      "text/plain": [
       "[366, 13387, 7195, 10463, 9575]"
      ]
     },
     "execution_count": 6,
     "metadata": {},
     "output_type": "execute_result"
    }
   ],
   "source": [
    "recommendded_results = recommend(\"An action film/series featuring spaceship battles in a futuristic era\")\n",
    "recommendded_results"
   ]
  },
  {
   "cell_type": "code",
   "execution_count": 16,
   "metadata": {},
   "outputs": [
    {
     "data": {
      "text/html": [
       "<div>\n",
       "<style scoped>\n",
       "    .dataframe tbody tr th:only-of-type {\n",
       "        vertical-align: middle;\n",
       "    }\n",
       "\n",
       "    .dataframe tbody tr th {\n",
       "        vertical-align: top;\n",
       "    }\n",
       "\n",
       "    .dataframe thead th {\n",
       "        text-align: right;\n",
       "    }\n",
       "</style>\n",
       "<table border=\"1\" class=\"dataframe\">\n",
       "  <thead>\n",
       "    <tr style=\"text-align: right;\">\n",
       "      <th></th>\n",
       "      <th>title</th>\n",
       "      <th>desc_n_genres</th>\n",
       "    </tr>\n",
       "  </thead>\n",
       "  <tbody>\n",
       "    <tr>\n",
       "      <th>1</th>\n",
       "      <td>Mobile Suit Gundam Unicorn</td>\n",
       "      <td>['scifi', 'animation', 'action', 'drama', 'war...</td>\n",
       "    </tr>\n",
       "    <tr>\n",
       "      <th>2</th>\n",
       "      <td>Cosmoball</td>\n",
       "      <td>['scifi', 'sport', 'fantasy', 'action'], Cosmo...</td>\n",
       "    </tr>\n",
       "    <tr>\n",
       "      <th>3</th>\n",
       "      <td>Riders to the Stars</td>\n",
       "      <td>['drama', 'scifi'], Three men gamble their liv...</td>\n",
       "    </tr>\n",
       "    <tr>\n",
       "      <th>4</th>\n",
       "      <td>Scavengers</td>\n",
       "      <td>['action', 'scifi', 'drama', 'thriller', 'come...</td>\n",
       "    </tr>\n",
       "    <tr>\n",
       "      <th>5</th>\n",
       "      <td>Shadow Company</td>\n",
       "      <td>['documentation'], Documentary about the merce...</td>\n",
       "    </tr>\n",
       "  </tbody>\n",
       "</table>\n",
       "</div>"
      ],
      "text/plain": [
       "                        title  \\\n",
       "1  Mobile Suit Gundam Unicorn   \n",
       "2                   Cosmoball   \n",
       "3         Riders to the Stars   \n",
       "4                  Scavengers   \n",
       "5              Shadow Company   \n",
       "\n",
       "                                       desc_n_genres  \n",
       "1  ['scifi', 'animation', 'action', 'drama', 'war...  \n",
       "2  ['scifi', 'sport', 'fantasy', 'action'], Cosmo...  \n",
       "3  ['drama', 'scifi'], Three men gamble their liv...  \n",
       "4  ['action', 'scifi', 'drama', 'thriller', 'come...  \n",
       "5  ['documentation'], Documentary about the merce...  "
      ]
     },
     "execution_count": 16,
     "metadata": {},
     "output_type": "execute_result"
    }
   ],
   "source": [
    "df = data.iloc[recommendded_results,:][['title','desc_n_genres']]\n",
    "df.index = np.arange(1, len(df) + 1)\n",
    "df"
   ]
  }
 ],
 "metadata": {
  "kernelspec": {
   "display_name": "base",
   "language": "python",
   "name": "python3"
  },
  "language_info": {
   "codemirror_mode": {
    "name": "ipython",
    "version": 3
   },
   "file_extension": ".py",
   "mimetype": "text/x-python",
   "name": "python",
   "nbconvert_exporter": "python",
   "pygments_lexer": "ipython3",
   "version": "3.10.8 | packaged by conda-forge | (main, Nov 24 2022, 14:07:00) [MSC v.1916 64 bit (AMD64)]"
  },
  "orig_nbformat": 4,
  "vscode": {
   "interpreter": {
    "hash": "e2683deaa72f6328ecced4ea0fe721998ca146d3c6f2ece3bb877c6397bcfe8e"
   }
  }
 },
 "nbformat": 4,
 "nbformat_minor": 2
}
